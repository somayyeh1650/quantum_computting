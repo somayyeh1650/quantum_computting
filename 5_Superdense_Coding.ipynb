{
 "cells": [
  {
   "cell_type": "markdown",
   "metadata": {},
   "source": [
    "# **Superdense Coding**\n",
    "#### Sperdense coding is the opposite of quantum teleportation from the process perspective. In superdense coding, two classical bits are transmitted using only one qubit with the help of shared entanglement between the sender (Alice) and the receiver (Bob). Bellow, we explain three necessary steps of superdense coding."
   ]
  },
  {
   "cell_type": "code",
   "execution_count": 1,
   "metadata": {},
   "outputs": [],
   "source": [
    "from qiskit import QuantumCircuit, QuantumRegister, ClassicalRegister\n",
    "from qiskit_aer import Aer\n",
    "from qiskit.visualization import plot_histogram"
   ]
  },
  {
   "cell_type": "markdown",
   "metadata": {},
   "source": [
    "## **Step 1:** creating entangelement between two qubits shared between Alice and Bob\n",
    "#### To entangle a pair of qubits, we use the combination of Hadamard gate and CNOT gate. Since the default state of each qubit in qiskit is $\\ket 0$, applying the Hadamard gate to the 1st qubit transforms its state from $\\ket 0$ to \n",
    "$$\n",
    "H|0\\rangle = \\frac{1}{\\sqrt{2}} \\left( |0\\rangle + |1\\rangle \\right) \n",
    "$$\n",
    "#### So, after this step, the combined state of the system (in the little endian) becomes:\n",
    "$$\n",
    "\\frac{1}{\\sqrt{2}} |0\\rangle \\otimes \\left( |0\\rangle + |1\\rangle \\right) = \\frac{1}{\\sqrt{2}} \\left( |00\\rangle + |01\\rangle \\right)\n",
    "$$\n",
    "#### Now applying a $CNOT$ gate to both qubits where the 1rst qubit acts as the control and the 2nd qubit plays the target role, we will reach the Bell states $\\ket\\Phi^{+}$ as\n",
    "$$\n",
    "|\\Phi^{+}\\rangle  = \\frac{1}{\\sqrt{2}} \\left( |00\\rangle + |11\\rangle \\right)\n",
    "$$\n",
    "#### The following function goes through these steps. "
   ]
  },
  {
   "cell_type": "code",
   "execution_count": 2,
   "metadata": {},
   "outputs": [],
   "source": [
    "def create_Bell_pair(qc, a, b):\n",
    "    qc.h(a)\n",
    "    qc.cx(a,b)"
   ]
  },
  {
   "cell_type": "markdown",
   "metadata": {},
   "source": [
    "## **Step 2:** Alice's gates to encode the two bits\n",
    "#### Alice has two classical bits of information $\\{00, 01, 10, , 11\\}$ that she wants to send to Bob. To encode her information, Alice applies one of the following quantum gates to her qubit deponding on the state of classical bits:\n",
    "$$\n",
    "\\begin{array}{|cc|} \\hline\n",
    "\\text{Classical bit} & \\text{Gate} \\\\ \\hline\n",
    "00 & I \\\\ \n",
    "10 & X \\\\ \n",
    "01 & Z \\\\ \n",
    "11 & ZX \\\\ \\hline\n",
    "\\end{array}\n",
    "$$\n",
    "#### This changes the shared entangled state in a way that encodes her classical message. After encoding the information, Alice sends her qubit to Bob over a quantum channel."
   ]
  },
  {
   "cell_type": "code",
   "execution_count": 3,
   "metadata": {},
   "outputs": [],
   "source": [
    "def encode_message(qc, qubit, msg):\n",
    "    if msg == \"00\":\n",
    "        pass\n",
    "    elif msg == \"01\":\n",
    "        qc.z(qubit)\n",
    "    elif msg ==\"10\":\n",
    "        qc.x(qubit)\n",
    "    elif msg == \"11\":\n",
    "        qc.z(qubit)\n",
    "        qc.x(qubit)\n",
    "    else:\n",
    "        print(\"invalid message!\")"
   ]
  },
  {
   "cell_type": "markdown",
   "metadata": {},
   "source": [
    "## **Step 3:** Bob's gates to decode the message recieved from Aliece\n",
    "#### When Bob has both qubits of the entangled pair (his original qubit and the one Alice sent back), he applies $CNOT$ and Hadamard gates respectively on the two qubits, which allows him to distinguish between the four possible Bell states.\n",
    "$$\n",
    "\\begin{array}{|ccc|} \\hline\n",
    "\\text{what Bob recieves} & \\text{after CONT} & \\text{after Hadamard} \\\\ \\hline\n",
    "\\frac{1}{\\sqrt{2}} |00\\rangle + |11\\rangle & \\frac{1}{\\sqrt{2}} |00\\rangle + |01\\rangle & |00\\rangle \\\\ \n",
    "\\frac{1}{\\sqrt{2}} |01\\rangle + |10\\rangle & \\frac{1}{\\sqrt{2}} |11\\rangle + |10\\rangle & |10\\rangle \\\\ \n",
    "\\frac{1}{\\sqrt{2}} |00\\rangle - |11\\rangle & \\frac{1}{\\sqrt{2}} |00\\rangle - |01\\rangle & |01\\rangle  \\\\ \n",
    "-\\frac{1}{\\sqrt{2}} |01\\rangle + |10\\rangle & -\\frac{1}{\\sqrt{2}} |11\\rangle + |10\\rangle & -|11\\rangle  \\\\ \\hline\n",
    "\\end{array}\n",
    "$$\n",
    "#### The following function performs these operations."
   ]
  },
  {
   "cell_type": "code",
   "execution_count": 4,
   "metadata": {},
   "outputs": [],
   "source": [
    "def decode_message(qc, a, b):\n",
    "    qc.cx(a,b)\n",
    "    qc.h(a)"
   ]
  },
  {
   "cell_type": "markdown",
   "metadata": {},
   "source": [
    "## Constructing the quantum circuit\n",
    "#### As we saw, thanks to prior entanglement, here we can transmit two classical bits using only one qubit in the quantum communication channel.\n",
    "#### Now we apply all three functions defined above. "
   ]
  },
  {
   "cell_type": "code",
   "execution_count": 5,
   "metadata": {},
   "outputs": [
    {
     "data": {
      "image/png": "[encoded data removed]",
      "text/plain": [
       "<Figure size 998.442x284.278 with 1 Axes>"
      ]
     },
     "execution_count": 5,
     "metadata": {},
     "output_type": "execute_result"
    }
   ],
   "source": [
    "qc = QuantumCircuit(2)\n",
    "\n",
    "# step 1\n",
    "create_Bell_pair(qc, 0, 1)\n",
    "qc.barrier()\n",
    "\n",
    "# step 2\n",
    "# two classical bits\n",
    "message = '10'\n",
    "\n",
    "encode_message(qc, 0, message)\n",
    "qc.barrier()\n",
    "\n",
    "# step 3\n",
    "decode_message(qc, 0, 1)\n",
    "\n",
    "# measurement on qubits\n",
    "qc.measure_all()\n",
    "\n",
    "qc.draw('mpl')"
   ]
  },
  {
   "cell_type": "code",
   "execution_count": 6,
   "metadata": {},
   "outputs": [
    {
     "name": "stdout",
     "output_type": "stream",
     "text": [
      "\n",
      " Total counts are: {'10': 1000}\n"
     ]
    },
    {
     "data": {
      "image/png": "[encoded data removed]",
      "text/plain": [
       "<Figure size 640x480 with 1 Axes>"
      ]
     },
     "execution_count": 6,
     "metadata": {},
     "output_type": "execute_result"
    }
   ],
   "source": [
    "# initiate\n",
    "estimator = Aer.get_backend('qasm_simulator')\n",
    "\n",
    "#run\n",
    "job = estimator.run(qc, shots = 1000)\n",
    "\n",
    "# result\n",
    "counts = job.result().get_counts(qc)\n",
    "\n",
    "print(\"\\n Total counts are:\" , counts)\n",
    "\n",
    "plot_histogram(counts)\n"
   ]
  },
  {
   "cell_type": "markdown",
   "metadata": {},
   "source": [
    "#### Getting 10 as the result of our quantum circuit confirms that the two bits of classical information have been transferred successfully from Alice to Bob."
   ]
  },
  {
   "cell_type": "code",
   "execution_count": null,
   "metadata": {},
   "outputs": [],
   "source": []
  }
 ],
 "metadata": {
  "kernelspec": {
   "display_name": "cwq",
   "language": "python",
   "name": "python3"
  },
  "language_info": {
   "codemirror_mode": {
    "name": "ipython",
    "version": 3
   },
   "file_extension": ".py",
   "mimetype": "text/x-python",
   "name": "python",
   "nbconvert_exporter": "python",
   "pygments_lexer": "ipython3",
   "version": "3.12.4"
  }
 },
 "nbformat": 4,
 "nbformat_minor": 2
}
